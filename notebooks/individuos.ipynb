{
 "cells": [
  {
   "cell_type": "markdown",
   "id": "d5c6261d",
   "metadata": {},
   "source": [
    "# EPH - Individuos"
   ]
  },
  {
   "cell_type": "markdown",
   "id": "d52cdbf3",
   "metadata": {},
   "source": [
    "Antes de comenzar, se establece la ruta a la fuente para no tener problemas en la importación de módulos."
   ]
  },
  {
   "cell_type": "code",
   "execution_count": 1,
   "id": "024e05a5",
   "metadata": {},
   "outputs": [],
   "source": [
    "import sys\n",
    "import os\n",
    "sys.path.append(os.path.abspath(\"../src\"))"
   ]
  },
  {
   "cell_type": "markdown",
   "id": "33fe4ab9",
   "metadata": {},
   "source": [
    "## Procesamiento del archivo\n",
    "Se le agrega a un nuevo archivo las columnas \"CH04_str\",\"NIVEL_ED_str\",\"CONDICION_LABORAL\",\"UNIVERSITARIO\" junto con sus datos."
   ]
  },
  {
   "cell_type": "code",
   "execution_count": 2,
   "id": "a106414c",
   "metadata": {},
   "outputs": [],
   "source": [
    "import csv\n",
    "import eph \n",
    "from constants import FILE_INDIVIDUOS_ROUTE,FILE_INDIVIDUOS_DET_ROUTE\n",
    "\n",
    "\n",
    "with open(FILE_INDIVIDUOS_ROUTE, \"r\",encoding=\"UTF-8\") as file_individuos:\n",
    "    csv_reader= csv.DictReader(file_individuos, delimiter=\";\")\n",
    "    header= csv_reader.fieldnames\n",
    "    \n",
    "    # Se agregan las columnas necesarias para complementar los datos del archivo\n",
    "    eph.add_columns_header(header,\"CH04_str\",\"NIVEL_ED_str\",\"CONDICION_LABORAL\",\"UNIVERSITARIO\")\n",
    "\n",
    "    # Creo el archivo para escribir los datos completos\n",
    "    with open(FILE_INDIVIDUOS_DET_ROUTE,\"w+\",encoding=\"UTF-8\") as file_individuos_det:\n",
    "        csv_writer= csv.DictWriter(file_individuos_det, delimiter=\";\", fieldnames=header)\n",
    "        \n",
    "        # Se escribe la cabecera del nuevo archivo\n",
    "        csv_writer.writeheader()\n",
    "\n",
    "        # Se leen todas las filas para completar los datos de las nuevas columnas\n",
    "        for row in csv_reader:\n",
    "            eph.add_data_ch04str(row)\n",
    "            eph.add_data_nivel_ed_str(row)\n",
    "            eph.add_data_cond_lab(row)\n",
    "            eph.add_data_universitario(row)\n",
    "\n",
    "            # Se escriben las filas completas en el nuevo archivo\n",
    "            csv_writer.writerow(row)"
   ]
  },
  {
   "cell_type": "markdown",
   "id": "e72fd359",
   "metadata": {},
   "source": [
    "## Análisis del archivo"
   ]
  },
  {
   "cell_type": "markdown",
   "id": "4904ebba-a28c-4594-905f-70be014d0f54",
   "metadata": {},
   "source": [
    "Abro el archivo y guardo en una variable los titulos y los datos para realizar luego el analisis."
   ]
  },
  {
   "cell_type": "code",
   "execution_count": 3,
   "id": "4a395c25-4046-4112-a793-ad7397730534",
   "metadata": {},
   "outputs": [],
   "source": [
    "with open(FILE_INDIVIDUOS_DET_ROUTE, \"r\",encoding=\"UTF-8\") as file_individuos_det:\n",
    "    file_individuos_det= open(FILE_INDIVIDUOS_DET_ROUTE, \"r\",encoding=\"UTF-8\")\n",
    "    csv_reader= csv.DictReader(file_individuos_det, delimiter=\";\")\n",
    "    header=csv_reader.fieldnames\n",
    "    data=list(csv_reader)"
   ]
  },
  {
   "cell_type": "markdown",
   "id": "5062e9a2",
   "metadata": {},
   "source": [
    "1- A partir de la información de cada año contenida en el dataset se debe informar, año tras año, el porcentaje de personas mayores a 2 años capaces e incapaces de leer y escribir."
   ]
  },
  {
   "cell_type": "code",
   "execution_count": 4,
   "id": "592ddaa7",
   "metadata": {},
   "outputs": [
    {
     "name": "stdout",
     "output_type": "stream",
     "text": [
      "Año\tAlfabetizados\tNo alfabetizados\n",
      "2024\t27519850\t\t1647765\n"
     ]
    }
   ],
   "source": [
    "eph.cant_personas_alfabetizadas(data)"
   ]
  },
  {
   "cell_type": "markdown",
   "id": "fb551e84",
   "metadata": {},
   "source": [
    "2- A partir de un año y trimestre elegido por el usuario informar el porcentaje de personas no nacidas en Argentina que hayan cursado un nivel universitario o superior"
   ]
  },
  {
   "cell_type": "code",
   "execution_count": 5,
   "id": "204fa4c9",
   "metadata": {},
   "outputs": [
    {
     "name": "stdin",
     "output_type": "stream",
     "text": [
      "Ingrese el año:  2024\n",
      "Ingrese el trimestre [1 a 4]:  3\n"
     ]
    },
    {
     "name": "stdout",
     "output_type": "stream",
     "text": [
      "El % de personas extranjeras que han cursado el nivel superior o universitario en el trimestre 3 del año 2024 es del: 5.92%\n"
     ]
    }
   ],
   "source": [
    "#Ingreso de datos por el usuario\n",
    "ano=input(\"Ingrese el año: \")\n",
    "trim=input(\"Ingrese el trimestre [1 a 4]: \")\n",
    "\n",
    "eph.porc_extranjero_universitario(ano,trim,data)"
   ]
  },
  {
   "cell_type": "markdown",
   "id": "03a95c1c",
   "metadata": {},
   "source": [
    "3- A partir de la información contenida en el dataset informar el año y trimestre donde hubo menor desocupación."
   ]
  },
  {
   "cell_type": "code",
   "execution_count": 4,
   "id": "f5b6ac1f-3802-4d6c-b773-86b3e4beb1d8",
   "metadata": {},
   "outputs": [
    {
     "name": "stdout",
     "output_type": "stream",
     "text": [
      "Valor mínimo: 994334\n",
      "Año: 2024, Trimestre: 3\n"
     ]
    }
   ],
   "source": [
    "eph.info_menor_desocupacion(data)"
   ]
  },
  {
   "cell_type": "code",
   "execution_count": null,
   "id": "1cd8ffe5-c142-4919-aed4-890430fd8f4a",
   "metadata": {},
   "outputs": [],
   "source": []
  }
 ],
 "metadata": {
  "kernelspec": {
   "display_name": "Python 3 (ipykernel)",
   "language": "python",
   "name": "python3"
  },
  "language_info": {
   "codemirror_mode": {
    "name": "ipython",
    "version": 3
   },
   "file_extension": ".py",
   "mimetype": "text/x-python",
   "name": "python",
   "nbconvert_exporter": "python",
   "pygments_lexer": "ipython3",
   "version": "3.12.9"
  }
 },
 "nbformat": 4,
 "nbformat_minor": 5
}
